{
  "nbformat": 4,
  "nbformat_minor": 0,
  "metadata": {
    "colab": {
      "provenance": []
    },
    "kernelspec": {
      "name": "python3",
      "display_name": "Python 3"
    },
    "language_info": {
      "name": "python"
    }
  },
  "cells": [
    {
      "cell_type": "code",
      "execution_count": 15,
      "metadata": {
        "id": "j6x1F2xN3-QC"
      },
      "outputs": [],
      "source": [
        "class Artista:\n",
        "    #atributos\n",
        "    __nombre = None\n",
        "    __apellido = None\n",
        "    __edad = None\n",
        "    __grupo = None\n",
        "    #metodo constructor\n",
        "    def __init__(self, nombre, apellido, edad, grupo):\n",
        "        self.__nombre = nombre\n",
        "        self.__apellido = apellido\n",
        "        self.__edad = edad\n",
        "        self.__grupo = grupo\n",
        "\n",
        "    #propiedades\n",
        "    @property\n",
        "    def nombre(self):\n",
        "        return self.__nombre\n",
        "\n",
        "    @nombre.setter\n",
        "    def nombre(self, valor):\n",
        "        self.__nombre = valor\n",
        "\n",
        "    @property\n",
        "    def apellido(self):\n",
        "        return self.__apellido\n",
        "\n",
        "    @apellido.setter\n",
        "    def apellido(self, valor):\n",
        "        self.__apellido = valor\n",
        "\n",
        "    @property\n",
        "    def edad(self):\n",
        "        return self.__edad\n",
        "\n",
        "    @edad.setter\n",
        "    def edad(self, valor):\n",
        "        self.__edad = valor\n",
        "\n",
        "    @property\n",
        "    def grupo(self):\n",
        "        return self.__grupo\n",
        "\n",
        "    @grupo.setter\n",
        "    def grupo(self, valor):\n",
        "        self.__grupo = valor\n",
        "\n",
        "    #metodos\n",
        "    def presentacion(self):\n",
        "        return f\"Hola, mi nombre es {self.nombre} {self.apellido} y tengo {self.edad} años y soy del grupo {self.__grupo}.\""
      ]
    },
    {
      "cell_type": "code",
      "source": [
        "#probar la clasee\n",
        "artista = Artista(\"yuta\", \"nakamoto\", 28, \"nct\")\n",
        "print(artista.presentacion())"
      ],
      "metadata": {
        "colab": {
          "base_uri": "https://localhost:8080/"
        },
        "id": "SJ2QNgK44NzL",
        "outputId": "9039e664-b7f6-403c-a7b4-518bd560363b"
      },
      "execution_count": 17,
      "outputs": [
        {
          "output_type": "stream",
          "name": "stdout",
          "text": [
            "Hola, mi nombre es yuta nakamoto y tengo 28 años y soy del grupo nct.\n"
          ]
        }
      ]
    }
  ]
}